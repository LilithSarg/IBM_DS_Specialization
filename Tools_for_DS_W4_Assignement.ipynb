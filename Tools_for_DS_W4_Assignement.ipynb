{
 "cells": [
  {
   "cell_type": "markdown",
   "metadata": {},
   "source": [
    "<center>\n",
    "    <img src=\"https://cf-courses-data.s3.us.cloud-object-storage.appdomain.cloud/IBMDeveloperSkillsNetwork-DS0105EN-SkillsNetwork/labs/Module2/images/SN_web_lightmode.png\" width=\"300\" alt=\"cognitiveclass.ai logo\">\n",
    "</center>\n"
   ]
  },
  {
   "cell_type": "markdown",
   "metadata": {},
   "source": [
    "#### Add your code below following the instructions given in the course\n"
   ]
  },
  {
   "cell_type": "markdown",
   "metadata": {},
   "source": [
    "# My Jupyter Notebook on IBM Watson Studio"
   ]
  },
  {
   "cell_type": "markdown",
   "metadata": {},
   "source": [
    "**Lilith Sargsian**\n",
    "\n",
    "Lead Data Scientist"
   ]
  },
  {
   "cell_type": "markdown",
   "metadata": {},
   "source": [
    "*Even before I knew about Data Science existance I've always loved and were good at all the subjects it requires: Statistics, Probability Theory, Optimization, Maths, Linear Algebra, etc. I've felt very lucky once I knew that there's such a field that combines together all my favourite subjects. I'm interested in this field because it enables many optimizations in business, better decision making, quicker and more accurate responses, saves humans time on mechanical work and much more. I'm fascinated about this industry and plan to go deeper and achieve better results.*"
   ]
  },
  {
   "cell_type": "markdown",
   "metadata": {},
   "source": [
    "### My code is supposed to take the mode of integers in a list"
   ]
  },
  {
   "cell_type": "code",
   "execution_count": 1,
   "metadata": {},
   "outputs": [
    {
     "name": "stdout",
     "output_type": "stream",
     "text": [
      "4\n"
     ]
    }
   ],
   "source": [
    "from typing import List\n",
    "\n",
    "def get_mode(your_list: List[int]) -> int:\n",
    "    return max(set(your_list), key=your_list.count)\n",
    "\n",
    "list1 = [4, 6, -1, 3, 2, 6, 4, 4, -2]\n",
    "print(get_mode(list1))"
   ]
  },
  {
   "cell_type": "markdown",
   "metadata": {},
   "source": [
    "---\n",
    "### Corner cases of the function \"get_mode\":\n",
    "**1. There's no mode.**\n",
    "\n",
    "This can happen in two cases.\n",
    "-  When each number repeats only once.\n",
    "    For example: \n",
    "\n",
    "    `your_list = [3, 4, 5]`,\n",
    "\n",
    "    `get_mode(your_list)` would result to **3** (the smallest number)\n",
    "    \n",
    "    \n",
    "- When all the number repeat in the same frequency. \n",
    "    For example:\n",
    "    \n",
    "    `your_list = [3, 3, 4, 4, 5, 5]`\n",
    "    \n",
    "    `get_mode(your_list)` would result to **3** (the smallest number)\n",
    "    \n",
    "    \n",
    "    \n",
    "    \n",
    "**2. Empty list.**\n",
    "This would resuly to <font color='red'>ValueError</font> \n",
    "\n",
    "---"
   ]
  }
 ],
 "metadata": {
  "kernelspec": {
   "display_name": "Python 3 (ipykernel)",
   "language": "python",
   "name": "python3"
  },
  "language_info": {
   "codemirror_mode": {
    "name": "ipython",
    "version": 3
   },
   "file_extension": ".py",
   "mimetype": "text/x-python",
   "name": "python",
   "nbconvert_exporter": "python",
   "pygments_lexer": "ipython3",
   "version": "3.10.4"
  }
 },
 "nbformat": 4,
 "nbformat_minor": 4
}
