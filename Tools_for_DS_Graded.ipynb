{
 "cells": [
  {
   "cell_type": "markdown",
   "metadata": {},
   "source": [
    "<center>\n",
    "    <img src=\"https://cf-courses-data.s3.us.cloud-object-storage.appdomain.cloud/IBMDeveloperSkillsNetwork-DS0105EN-SkillsNetwork/labs/Module2/images/SN_web_lightmode.png\" width=\"300\" alt=\"cognitiveclass.ai logo\">\n",
    "</center>\n"
   ]
  },
  {
   "cell_type": "markdown",
   "metadata": {},
   "source": [
    "#### Add your code below following the instructions given in the course\n"
   ]
  },
  {
   "cell_type": "markdown",
   "metadata": {},
   "source": [
    "# My Jupyter Notebook for assignment in Tools for Data Science"
   ]
  },
  {
   "cell_type": "markdown",
   "metadata": {},
   "source": [
    "## Exercise 3: Introduction\n",
    "\n",
    "*This Jupyter Notebook is a demonstration of my skill on using Jupyter Notebooks' Markdown cells functionality.*"
   ]
  },
  {
   "cell_type": "markdown",
   "metadata": {},
   "source": [
    "## Exercise 4: Data Science Languages\n",
    "\n",
    "- python\n",
    "- R\n",
    "- SQL\n",
    "- Scala\n",
    "- Java\n",
    "- C++\n",
    "- Julia\n",
    "- JavaScript\n",
    "- PHP\n",
    "- Go\n",
    "- Ruby\n",
    "- Visual Basic"
   ]
  },
  {
   "cell_type": "markdown",
   "metadata": {},
   "source": [
    "## Exercise 5: Data Science Libraries\n",
    "\n",
    "Some of the commonly used libraries used by Data Scientists include:\n",
    "\n",
    "1. **python**\n",
    "- Scientific Computing: `numpy`, `scipy`, \n",
    "- Working with Data Frames: `pandas`, `pyspark`\n",
    "- Visualization: `matplotlib`, `seaborn`, `plotly`\n",
    "- Machine learning and Deep Learning: `scikit-learn` or `sklearn`, `keras`, `tensorflow`, `pytorch`\n",
    "\n",
    "2. **R** \n",
    "- `ggplot2`, `GGally`\n",
    "\n",
    "3. **Scala (Apache Spark)** \n",
    "- Vegas, Big DL\n",
    "\n",
    "4. **Java** \n",
    "- Java-ML"
   ]
  },
  {
   "cell_type": "markdown",
   "metadata": {},
   "source": [
    "## Exercise 6: Data Science Tools\n",
    "\n",
    "|  Tool  | Description | Programming Language\n",
    "| ----------- | ----------- | ----------- | \n",
    "| Jupyter Notebook | web application for creating and sharing computational documents. | mainly python\n",
    "| Tableau | platform to explore, create, and publicly share data visualizations online. | N/A drag and drop + embedded python and R\n",
    "| PowerBI | platform to explore, create, and publicly share data visualizations online. | N/A drag and drop + embedded python\n",
    "| RStudio | It's used in data analysis to import, access, transform, explore, plot, and model data, and for machine learning to make predictions on data | R\n",
    "| Spyder | It's used in data analysis to import, access, transform, explore, plot, and model data, and for machine learning to make predictions on data | Python\n",
    "\n"
   ]
  },
  {
   "cell_type": "code",
   "execution_count": 4,
   "metadata": {},
   "outputs": [
    {
     "data": {
      "text/plain": [
       "32"
      ]
     },
     "execution_count": 4,
     "metadata": {},
     "output_type": "execute_result"
    }
   ],
   "source": [
    "2 ** 5"
   ]
  },
  {
   "cell_type": "markdown",
   "metadata": {},
   "source": [
    "## Exercise 7: Arithmetic expression examples\n",
    "\n",
    "Below are presented some exampled of arithmetic expressions in Python.\n",
    "\n",
    "|  Operation  | Syntax | Usage Example\n",
    "| ----------- | ----------- | ----------- | \n",
    "| Addition | `x + y` | `1 + 5 = 6`|\n",
    "| Subtraction | `x - y` | `5 - 3 = 2`|\n",
    "| Multiplication | `x * y` | `4 * 2 = 8`|\n",
    "| Division with float | `x / y` | `10 / 3 = 3.333`|\n",
    "| Division with integer | `x // y` | `10 // 3 = 3`|\n",
    "| Modulus | `x % y` | `9 % 4 = 1`|\n",
    "| Exponential | `x ** y` | `2 ** 5 = 32`|"
   ]
  },
  {
   "cell_type": "markdown",
   "metadata": {},
   "source": [
    "## Exercise 8: Create code to multiply and add numbers"
   ]
  },
  {
   "cell_type": "code",
   "execution_count": 2,
   "metadata": {},
   "outputs": [
    {
     "name": "stdout",
     "output_type": "stream",
     "text": [
      "4\n"
     ]
    }
   ],
   "source": [
    "from typing import List\n",
    "\n",
    "def get_mode(your_list: List[int]) -> int:\n",
    "    return max(set(your_list), key=your_list.count)\n",
    "\n",
    "list1 = [4, 6, -1, 3, 2, 6, 4, 4, -2]\n",
    "print(get_mode(list1))"
   ]
  },
  {
   "cell_type": "code",
   "execution_count": 5,
   "metadata": {},
   "outputs": [
    {
     "data": {
      "text/plain": [
       "18"
      ]
     },
     "execution_count": 5,
     "metadata": {},
     "output_type": "execute_result"
    }
   ],
   "source": [
    "(4*7) - 10"
   ]
  },
  {
   "cell_type": "markdown",
   "metadata": {},
   "source": [
    "## Exercise 9: Code to convert minutes to hours"
   ]
  },
  {
   "cell_type": "code",
   "execution_count": 9,
   "metadata": {},
   "outputs": [
    {
     "name": "stdout",
     "output_type": "stream",
     "text": [
      "175 minutes is equal to 2.9166666666666665 hours\n"
     ]
    }
   ],
   "source": [
    "def from_mins_to_hours(minutes: int) -> float:\n",
    "    return minutes * (1/60)\n",
    "\n",
    "minutes = 175\n",
    "print(f\"{minutes} minutes is equal to {from_mins_to_hours(minutes)} hours\")"
   ]
  },
  {
   "cell_type": "markdown",
   "metadata": {},
   "source": [
    "## Exercise 10: List Objectives\n",
    "\n",
    "**Objectives are**:\n",
    "\n",
    "- List popular languages for Data Science\n",
    "- Create a Jupyter Notebook\n",
    "- Insert code and markdown cells\n",
    "- Share your notebook through GitHub"
   ]
  },
  {
   "cell_type": "markdown",
   "metadata": {},
   "source": [
    "**Lilith Sargsian**\n",
    "\n",
    "Lead Data Scientist"
   ]
  }
 ],
 "metadata": {
  "kernelspec": {
   "display_name": "Python",
   "language": "python",
   "name": "conda-env-python-py"
  },
  "language_info": {
   "codemirror_mode": {
    "name": "ipython",
    "version": 3
   },
   "file_extension": ".py",
   "mimetype": "text/x-python",
   "name": "python",
   "nbconvert_exporter": "python",
   "pygments_lexer": "ipython3",
   "version": "3.7.12"
  }
 },
 "nbformat": 4,
 "nbformat_minor": 4
}
